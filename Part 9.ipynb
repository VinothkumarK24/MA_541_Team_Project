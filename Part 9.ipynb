{
  {
   "cell_type": "code",
   "execution_count": 20,
   "metadata": {},
   "outputs": [
    {
     "name": "stdout",
     "output_type": "stream",
     "text": [
      "      Close_ETF       oil      gold       JPM\n",
      "0     97.349998  0.039242  0.004668  0.032258\n",
      "1     97.750000  0.001953 -0.001366 -0.002948\n",
      "2     99.160004 -0.031514 -0.007937  0.025724\n",
      "3     99.650002  0.034552  0.014621  0.011819\n",
      "4     99.260002  0.013619 -0.011419  0.000855\n",
      "..          ...       ...       ...       ...\n",
      "995  150.570007  0.009752  0.004634  0.003859\n",
      "996  151.600006 -0.009341 -0.015325  0.018259\n",
      "997  151.300003  0.036120 -0.006195 -0.007928\n",
      "998  152.619995  0.001542  0.005778 -0.000381\n",
      "999  152.539993  0.020330  0.001965  0.000381\n",
      "\n",
      "[1000 rows x 4 columns]\n"
     ]
    }
   ],
   "source": [
    "print(data)"
   ]
  },
  {
   "cell_type": "code",
   "execution_count": 21,
   "metadata": {},
   "outputs": [
    {
     "name": "stdout",
     "output_type": "stream",
     "text": [
      "Index(['Close_ETF', 'oil', 'gold', 'JPM'], dtype='object')\n"
     ]
    }
   ],
   "source": [
    "print(data.keys())"
   ]
  },
  {
   "cell_type": "code",
   "execution_count": 22,
   "metadata": {},
   "outputs": [
    {
     "data": {
      "text/html": [
       "<div>\n",
       "<style scoped>\n",
       "    .dataframe tbody tr th:only-of-type {\n",
       "        vertical-align: middle;\n",
       "    }\n",
       "\n",
       "    .dataframe tbody tr th {\n",
       "        vertical-align: top;\n",
       "    }\n",
       "\n",
       "    .dataframe thead th {\n",
       "        text-align: right;\n",
       "    }\n",
       "</style>\n",
       "<table border=\"1\" class=\"dataframe\">\n",
       "  <thead>\n",
       "    <tr style=\"text-align: right;\">\n",
       "      <th></th>\n",
       "      <th>Close_ETF</th>\n",
       "      <th>oil</th>\n",
       "      <th>gold</th>\n",
       "      <th>JPM</th>\n",
       "    </tr>\n",
       "  </thead>\n",
       "  <tbody>\n",
       "    <tr>\n",
       "      <td>0</td>\n",
       "      <td>97.349998</td>\n",
       "      <td>0.039242</td>\n",
       "      <td>0.004668</td>\n",
       "      <td>0.032258</td>\n",
       "    </tr>\n",
       "    <tr>\n",
       "      <td>1</td>\n",
       "      <td>97.750000</td>\n",
       "      <td>0.001953</td>\n",
       "      <td>-0.001366</td>\n",
       "      <td>-0.002948</td>\n",
       "    </tr>\n",
       "    <tr>\n",
       "      <td>2</td>\n",
       "      <td>99.160004</td>\n",
       "      <td>-0.031514</td>\n",
       "      <td>-0.007937</td>\n",
       "      <td>0.025724</td>\n",
       "    </tr>\n",
       "    <tr>\n",
       "      <td>3</td>\n",
       "      <td>99.650002</td>\n",
       "      <td>0.034552</td>\n",
       "      <td>0.014621</td>\n",
       "      <td>0.011819</td>\n",
       "    </tr>\n",
       "    <tr>\n",
       "      <td>4</td>\n",
       "      <td>99.260002</td>\n",
       "      <td>0.013619</td>\n",
       "      <td>-0.011419</td>\n",
       "      <td>0.000855</td>\n",
       "    </tr>\n",
       "  </tbody>\n",
       "</table>\n",
       "</div>"
      ],
      "text/plain": [
       "   Close_ETF       oil      gold       JPM\n",
       "0  97.349998  0.039242  0.004668  0.032258\n",
       "1  97.750000  0.001953 -0.001366 -0.002948\n",
       "2  99.160004 -0.031514 -0.007937  0.025724\n",
       "3  99.650002  0.034552  0.014621  0.011819\n",
       "4  99.260002  0.013619 -0.011419  0.000855"
      ]
     },
     "execution_count": 22,
     "metadata": {},
     "output_type": "execute_result"
    }
   ],
   "source": [
    "data.head()"
   ]
  },
  {
   "cell_type": "code",
   "execution_count": 23,
   "metadata": {},
   "outputs": [
    {
     "data": {
      "text/plain": [
       "Close_ETF    0\n",
       "oil          0\n",
       "gold         0\n",
       "JPM          0\n",
       "dtype: int64"
      ]
     },
     "execution_count": 23,
     "metadata": {},
     "output_type": "execute_result"
    }
   ],
   "source": [
    "data.isna().sum()"
   ]
  },
  {
   "cell_type": "code",
   "execution_count": 24,
   "metadata": {},
   "outputs": [
    {
     "data": {
      "text/plain": [
       "(1000, 2)"
      ]
     },
     "execution_count": 24,
     "metadata": {},
     "output_type": "execute_result"
    }
   ],
   "source": [
    "x= data[['gold','oil']]\n",
    "x.shape"
   ]
  },
  {
   "cell_type": "code",
   "execution_count": 25,
   "metadata": {},
   "outputs": [
    {
     "data": {
      "text/plain": [
       "(1000,)"
      ]
     },
     "execution_count": 25,
     "metadata": {},
     "output_type": "execute_result"
    }
   ],
   "source": [
    "y= data['Close_ETF']\n",
    "y.shape"
   ]
  },
  {
   "cell_type": "code",
   "execution_count": 26,
   "metadata": {},
   "outputs": [
    {
     "data": {
      "text/plain": [
       "LinearRegression(copy_X=True, fit_intercept=True, n_jobs=None, normalize=False)"
      ]
     },
     "execution_count": 26,
     "metadata": {},
     "output_type": "execute_result"
    }
   ],
   "source": [
    "regression= linear_model.LinearRegression()\n",
    "regression.fit(x,y)"
   ]
  },
  {
   "cell_type": "code",
   "execution_count": 27,
   "metadata": {},
   "outputs": [
    {
     "name": "stdout",
     "output_type": "stream",
     "text": [
      "intercept: 121.14272529601266\n",
      "coeff: [29.62259178 -9.12609977]\n"
     ]
    }
   ],
   "source": [
    "print('intercept:', regression.intercept_)\n",
    "print('coeff:', regression.coef_)"
   ]
  },
  {
   "cell_type": "code",
   "execution_count": 29,
   "metadata": {},
   "outputs": [
    {
     "name": "stdout",
     "output_type": "stream",
     "text": [
      "Predicted ETF value: \n",
      " [120.92287715]\n"
     ]
    }
   ],
   "source": [
    "New_oil_val = 0.039242\n",
    "New_gold_val = 0.004668\n",
    "print ('Predicted ETF value: \\n', regression.predict([[New_gold_val,New_oil_val]]))"
   ]
  },
  {
   "cell_type": "code",
   "execution_count": 33,
   "metadata": {},
   "outputs": [
    {
     "name": "stderr",
     "output_type": "stream",
     "text": [
      "C:\\Users\\ssath\\AppData\\Local\\Continuum\\anaconda3\\lib\\site-packages\\numpy\\core\\fromnumeric.py:2389: FutureWarning: Method .ptp is deprecated and will be removed in a future version. Use numpy.ptp instead.\n",
      "  return ptp(axis=axis, out=out, **kwargs)\n"
     ]
    }
   ],
   "source": [
    "x = sm.add_constant(x) # adding a constant"
   ]
  },
  {
   "cell_type": "code",
   "execution_count": 34,
   "metadata": {},
   "outputs": [
    {
     "name": "stdout",
     "output_type": "stream",
     "text": [
      "                            OLS Regression Results                            \n",
      "==============================================================================\n",
      "Dep. Variable:              Close_ETF   R-squared:                       0.001\n",
      "Model:                            OLS   Adj. R-squared:                 -0.001\n",
      "Method:                 Least Squares   F-statistic:                    0.3743\n",
      "Date:                Mon, 07 Dec 2020   Prob (F-statistic):              0.688\n",
      "Time:                        04:46:15   Log-Likelihood:                -3949.4\n",
      "No. Observations:                1000   AIC:                             7905.\n",
      "Df Residuals:                     997   BIC:                             7919.\n",
      "Df Model:                           2                                         \n",
      "Covariance Type:            nonrobust                                         \n",
      "==============================================================================\n",
      "                 coef    std err          t      P>|t|      [0.025      0.975]\n",
      "------------------------------------------------------------------------------\n",
      "const        121.1427      0.399    303.856      0.000     120.360     121.925\n",
      "gold          29.6226     36.272      0.817      0.414     -41.555     100.800\n",
      "oil           -9.1261     19.413     -0.470      0.638     -47.221      28.968\n",
      "==============================================================================\n",
      "Omnibus:                       26.565   Durbin-Watson:                   0.005\n",
      "Prob(Omnibus):                  0.000   Jarque-Bera (JB):               22.981\n",
      "Skew:                           0.306   Prob(JB):                     1.02e-05\n",
      "Kurtosis:                       2.579   Cond. No.                         92.2\n",
      "==============================================================================\n",
      "\n",
      "Warnings:\n",
      "[1] Standard Errors assume that the covariance matrix of the errors is correctly specified.\n"
     ]
    }
   ],
   "source": [
    "model = sm.OLS(y, x).fit()\n",
    "predictions = model.predict(x) \n",
    " \n",
    "print_model = model.summary()\n",
    "print(print_model)"
   ]
  },
  {
   "cell_type": "code",
   "execution_count": 35,
   "metadata": {},
   "outputs": [],
   "source": [
    "X = x[['gold','oil']].to_numpy()\n",
    "y_pred = np.dot(X, np.array([29.6226, -9.1261])) + 121.1427"
   ]
  },
  {
   "cell_type": "code",
   "execution_count": 36,
   "metadata": {},
   "outputs": [
    {
     "name": "stdout",
     "output_type": "stream",
     "text": [
      "     const      gold       oil   Close_ETF  Close_ETF_pred\n",
      "0      1.0  0.004668  0.039242   97.349998      120.922843\n",
      "1      1.0 -0.001366  0.001953   97.750000      121.084396\n",
      "2      1.0 -0.007937 -0.031514   99.160004      121.195200\n",
      "3      1.0  0.014621  0.034552   99.650002      121.260476\n",
      "4      1.0 -0.011419  0.013619   99.260002      120.680147\n",
      "..     ...       ...       ...         ...             ...\n",
      "995    1.0  0.004634  0.009752  150.570007      121.190965\n",
      "996    1.0 -0.015325 -0.009341  151.600006      120.773981\n",
      "997    1.0 -0.006195  0.036120  151.300003      120.629551\n",
      "998    1.0  0.005778  0.001542  152.619995      121.299774\n",
      "999    1.0  0.001965  0.020330  152.539993      121.015385\n",
      "\n",
      "[1000 rows x 5 columns]\n"
     ]
    }
   ],
   "source": [
    "y_pred = pd.DataFrame(y_pred, columns =['Close_ETF_pred'])\n",
    "y = pd.DataFrame(y, columns =['Close_ETF'])\n",
    "New_b = x.join(y)\n",
    "dataframe_final = New_b.join(y_pred)\n",
    "print(dataframe_final)"
   ]
  },
  {
   "cell_type": "code",
   "execution_count": 38,
   "metadata": {},
   "outputs": [
    {
     "name": "stdout",
     "output_type": "stream",
     "text": [
      "The R-Square score is: 0.0007502966568138092\n",
      "The Adjusted R-Square score is: -0.0012542162887092534\n"
     ]
    }
   ],
   "source": [
    "r_square = r2_score(dataframe_final['Close_ETF'], dataframe_final['Close_ETF_pred'])  \n",
    "print(\"The R-Square score is:\" ,r_square)\n",
    "n= len(dataframe_final)\n",
    "k = 2\n",
    "adjusted_r_square = 1-(((1-r_square)*(n-1))/(n-k-1))\n",
    "print(\"The Adjusted R-Square score is:\" ,adjusted_r_square)"
   ]
  },
  {
   "cell_type": "code",
   "execution_count": null,
   "metadata": {},
   "outputs": [],
   "source": []
  }
 ],
 "metadata": {
  "kernelspec": {
   "display_name": "Python 3",
   "language": "python",
   "name": "python3"
  },
  "language_info": {
   "codemirror_mode": {
    "name": "ipython",
    "version": 3
   },
   "file_extension": ".py",
   "mimetype": "text/x-python",
   "name": "python",
   "nbconvert_exporter": "python",
   "pygments_lexer": "ipython3",
   "version": "3.7.6"
  }
 },
 "nbformat": 4,
 "nbformat_minor": 2
}
